{
 "cells": [
  {
   "cell_type": "code",
   "execution_count": 11,
   "id": "47b950f9-7de6-402c-941e-9168153c5249",
   "metadata": {},
   "outputs": [
    {
     "name": "stdout",
     "output_type": "stream",
     "text": [
      "Requirement already satisfied: pandas in c:\\users\\user\\anaconda3\\lib\\site-packages (2.2.2)\n",
      "Requirement already satisfied: openpyxl in c:\\users\\user\\anaconda3\\lib\\site-packages (3.1.5)\n",
      "Requirement already satisfied: numpy>=1.26.0 in c:\\users\\user\\anaconda3\\lib\\site-packages (from pandas) (1.26.4)\n",
      "Requirement already satisfied: python-dateutil>=2.8.2 in c:\\users\\user\\anaconda3\\lib\\site-packages (from pandas) (2.9.0.post0)\n",
      "Requirement already satisfied: pytz>=2020.1 in c:\\users\\user\\anaconda3\\lib\\site-packages (from pandas) (2024.1)\n",
      "Requirement already satisfied: tzdata>=2022.7 in c:\\users\\user\\anaconda3\\lib\\site-packages (from pandas) (2023.3)\n",
      "Requirement already satisfied: et-xmlfile in c:\\users\\user\\anaconda3\\lib\\site-packages (from openpyxl) (1.1.0)\n",
      "Requirement already satisfied: six>=1.5 in c:\\users\\user\\anaconda3\\lib\\site-packages (from python-dateutil>=2.8.2->pandas) (1.16.0)\n",
      "Note: you may need to restart the kernel to use updated packages.\n"
     ]
    }
   ],
   "source": [
    "pip install pandas openpyxl"
   ]
  },
  {
   "cell_type": "code",
   "execution_count": 17,
   "id": "3818a477-c049-4634-8c7c-ef4e2d43c0ea",
   "metadata": {},
   "outputs": [],
   "source": [
    "import pandas as pd\n",
    "import numpy as np"
   ]
  },
  {
   "cell_type": "code",
   "execution_count": 23,
   "id": "0500b995-9b2c-483b-8afc-d20595275946",
   "metadata": {
    "scrolled": true
   },
   "outputs": [
    {
     "data": {
      "text/html": [
       "<div>\n",
       "<style scoped>\n",
       "    .dataframe tbody tr th:only-of-type {\n",
       "        vertical-align: middle;\n",
       "    }\n",
       "\n",
       "    .dataframe tbody tr th {\n",
       "        vertical-align: top;\n",
       "    }\n",
       "\n",
       "    .dataframe thead th {\n",
       "        text-align: right;\n",
       "    }\n",
       "</style>\n",
       "<table border=\"1\" class=\"dataframe\">\n",
       "  <thead>\n",
       "    <tr style=\"text-align: right;\">\n",
       "      <th></th>\n",
       "      <th>ID</th>\n",
       "      <th>Name</th>\n",
       "      <th>Age</th>\n",
       "      <th>Email</th>\n",
       "      <th>JoinDate</th>\n",
       "      <th>Salary</th>\n",
       "    </tr>\n",
       "  </thead>\n",
       "  <tbody>\n",
       "    <tr>\n",
       "      <th>0</th>\n",
       "      <td>1</td>\n",
       "      <td>Alice</td>\n",
       "      <td>25.0</td>\n",
       "      <td>alice@example.com</td>\n",
       "      <td>2020-01-01 00:00:00</td>\n",
       "      <td>50000.0</td>\n",
       "    </tr>\n",
       "    <tr>\n",
       "      <th>1</th>\n",
       "      <td>2</td>\n",
       "      <td>Bob</td>\n",
       "      <td>30.0</td>\n",
       "      <td>bob@example.com</td>\n",
       "      <td>not a date</td>\n",
       "      <td>60000.0</td>\n",
       "    </tr>\n",
       "    <tr>\n",
       "      <th>2</th>\n",
       "      <td>2</td>\n",
       "      <td>Bob</td>\n",
       "      <td>30.0</td>\n",
       "      <td>bob@example.com</td>\n",
       "      <td>2020-02-01 00:00:00</td>\n",
       "      <td>60000.0</td>\n",
       "    </tr>\n",
       "    <tr>\n",
       "      <th>3</th>\n",
       "      <td>4</td>\n",
       "      <td>Charlie</td>\n",
       "      <td>NaN</td>\n",
       "      <td>charlie@</td>\n",
       "      <td>2020-03-01 00:00:00</td>\n",
       "      <td>70000.0</td>\n",
       "    </tr>\n",
       "    <tr>\n",
       "      <th>4</th>\n",
       "      <td>5</td>\n",
       "      <td>David</td>\n",
       "      <td>22.0</td>\n",
       "      <td>NaN</td>\n",
       "      <td>2020-04-01 00:00:00</td>\n",
       "      <td>NaN</td>\n",
       "    </tr>\n",
       "  </tbody>\n",
       "</table>\n",
       "</div>"
      ],
      "text/plain": [
       "   ID     Name   Age              Email             JoinDate   Salary\n",
       "0   1    Alice  25.0  alice@example.com  2020-01-01 00:00:00  50000.0\n",
       "1   2      Bob  30.0    bob@example.com           not a date  60000.0\n",
       "2   2      Bob  30.0    bob@example.com  2020-02-01 00:00:00  60000.0\n",
       "3   4  Charlie   NaN           charlie@  2020-03-01 00:00:00  70000.0\n",
       "4   5    David  22.0                NaN  2020-04-01 00:00:00      NaN"
      ]
     },
     "execution_count": 23,
     "metadata": {},
     "output_type": "execute_result"
    }
   ],
   "source": [
    "df = pd.read_excel('Messy data.xlsx')\n",
    "df.head()"
   ]
  },
  {
   "cell_type": "code",
   "execution_count": null,
   "id": "a4299772-58c7-486c-8a37-eed0f31c3229",
   "metadata": {},
   "outputs": [],
   "source": []
  },
  {
   "cell_type": "code",
   "execution_count": 35,
   "id": "180d29ab-ccd8-4f15-b4ce-7c51900c1d87",
   "metadata": {},
   "outputs": [
    {
     "data": {
      "text/plain": [
       "ID          0\n",
       "Name        1\n",
       "Age         1\n",
       "Email       1\n",
       "JoinDate    0\n",
       "Salary      1\n",
       "dtype: int64"
      ]
     },
     "execution_count": 35,
     "metadata": {},
     "output_type": "execute_result"
    }
   ],
   "source": [
    "df.isnull()           # Returns True for missing values\n",
    "df.isnull().sum()     # Count of missing values per column"
   ]
  },
  {
   "cell_type": "code",
   "execution_count": 67,
   "id": "5c4c76c2-35c1-4d74-8f9a-f1de823e9253",
   "metadata": {},
   "outputs": [
    {
     "data": {
      "text/plain": [
       "ID            int64\n",
       "Name         object\n",
       "Age         float64\n",
       "Email        object\n",
       "JoinDate     object\n",
       "Salary      float64\n",
       "dtype: object"
      ]
     },
     "execution_count": 67,
     "metadata": {},
     "output_type": "execute_result"
    }
   ],
   "source": [
    "df.dtypes"
   ]
  },
  {
   "cell_type": "code",
   "execution_count": 56,
   "id": "2d03ffc1-3162-426d-8848-fb84c1d81579",
   "metadata": {},
   "outputs": [
    {
     "data": {
      "text/plain": [
       "array([25., 30., nan, 22., 45., 50., 55., 60., 65.])"
      ]
     },
     "execution_count": 56,
     "metadata": {},
     "output_type": "execute_result"
    }
   ],
   "source": [
    "unique_values = df['Age'].unique()\n",
    "unique_values"
   ]
  },
  {
   "cell_type": "code",
   "execution_count": 69,
   "id": "3a76a866-2718-4681-a68e-0f0c332c4821",
   "metadata": {},
   "outputs": [],
   "source": [
    "duplicates = df.duplicated()\n",
    "df[duplicates]\n",
    "df.drop_duplicates(inplace=True)"
   ]
  },
  {
   "cell_type": "code",
   "execution_count": 73,
   "id": "569c1a28-1842-457e-80df-128fc3fe5630",
   "metadata": {},
   "outputs": [
    {
     "name": "stdout",
     "output_type": "stream",
     "text": [
      "Empty DataFrame\n",
      "Columns: [ID,Name,Age,Email,JoinDate,Salary]\n",
      "Index: []\n"
     ]
    }
   ],
   "source": [
    "duplicates = data[data.duplicated()]  # Select only duplicated rows\n",
    "print(duplicates)"
   ]
  },
  {
   "cell_type": "code",
   "execution_count": 81,
   "id": "8c4f5f2c-c048-491e-aabe-1f04fe6491d6",
   "metadata": {},
   "outputs": [
    {
     "name": "stdout",
     "output_type": "stream",
     "text": [
      "Missing Data\n"
     ]
    },
    {
     "data": {
      "text/plain": [
       "ID          0\n",
       "Name        1\n",
       "Age         1\n",
       "Email       1\n",
       "JoinDate    0\n",
       "Salary      1\n",
       "dtype: int64"
      ]
     },
     "execution_count": 81,
     "metadata": {},
     "output_type": "execute_result"
    }
   ],
   "source": [
    "missing_data = data.isnull().sum()\n",
    "print(\"Missing Data\")\n",
    "missing_data"
   ]
  },
  {
   "cell_type": "code",
   "execution_count": 35,
   "id": "3b31ed6f-9a73-443d-8a23-51c902c24092",
   "metadata": {},
   "outputs": [
    {
     "name": "stdout",
     "output_type": "stream",
     "text": [
      "   ID     Name   Age              Email   JoinDate   Salary\n",
      "0   1    Alice  25.0  alice@example.com 2020-01-01  50000.0\n",
      "1   2      Bob  30.0    bob@example.com        NaT  60000.0\n",
      "2   2      Bob  30.0    bob@example.com 2020-02-01  60000.0\n",
      "3   4  Charlie   NaN           charlie@ 2020-03-01  70000.0\n",
      "4   5    David  22.0                nan 2020-04-01      NaN\n",
      "ID                   int64\n",
      "Name                object\n",
      "Age                float64\n",
      "Email               object\n",
      "JoinDate    datetime64[ns]\n",
      "Salary             float64\n",
      "dtype: object\n"
     ]
    }
   ],
   "source": [
    "import pandas as pd\n",
    "\n",
    "print(df.head())\n",
    "\n",
    "df['Salary'] = pd.to_numeric(df['Salary'], errors='coerce')\n",
    "df['JoinDate'] = pd.to_datetime(df['JoinDate'], errors='coerce')\n",
    "df['Email'] = df['Email'].astype(str)\n",
    "\n",
    "print(df.dtypes)\n"
   ]
  },
  {
   "cell_type": "code",
   "execution_count": 47,
   "id": "15d16dac-5bc3-472d-b90f-56f44ff653f8",
   "metadata": {},
   "outputs": [],
   "source": [
    "from sklearn.impute import SimpleImputer\n",
    "imputer = SimpleImputer(strategy=\"mean\")"
   ]
  },
  {
   "cell_type": "code",
   "execution_count": 63,
   "id": "7bb168ea-ad29-436f-9202-a53031ae2c9a",
   "metadata": {},
   "outputs": [],
   "source": [
    "imputer = SimpleImputer(strategy=\"mean\")\n",
    "imputer.fit(df[[\"Salary\"]])\n",
    "df[[\"Salary\"]] = imputer.transform(df[[\"Salary\"]])\n",
    "imputer = SimpleImputer(strategy=\"mean\")\n",
    "imputer.fit(df[[\"Age\"]])\n",
    "df[[\"Age\"]] = imputer.transform(df[[\"Age\"]])\n"
   ]
  },
  {
   "cell_type": "code",
   "execution_count": 69,
   "id": "53730d33-71b9-4b04-a6ca-8a8698d84323",
   "metadata": {},
   "outputs": [
    {
     "data": {
      "text/plain": [
       "ID                   int64\n",
       "Name                object\n",
       "Age                  int32\n",
       "Email               object\n",
       "JoinDate    datetime64[ns]\n",
       "Salary               int32\n",
       "dtype: object"
      ]
     },
     "execution_count": 69,
     "metadata": {},
     "output_type": "execute_result"
    }
   ],
   "source": [
    "df.dtypes"
   ]
  },
  {
   "cell_type": "code",
   "execution_count": 67,
   "id": "975a9633-ece5-42b5-b921-277098f5b5f1",
   "metadata": {},
   "outputs": [],
   "source": [
    "df[\"Salary\"] = df[\"Salary\"].astype(int)\n",
    "df[\"Age\"] = df[\"Age\"].astype(int)"
   ]
  },
  {
   "cell_type": "code",
   "execution_count": 1,
   "id": "e924d692-ba13-4709-acbc-fd68b377f811",
   "metadata": {},
   "outputs": [],
   "source": [
    "import pandas as pd"
   ]
  },
  {
   "cell_type": "code",
   "execution_count": 94,
   "id": "5902dd9d-4a3d-4bf9-be44-f236af78951a",
   "metadata": {},
   "outputs": [],
   "source": [
    "data={\n",
    "    \"Name\": [\"Alice\", \"Bob\", \"Charlie\", \"David\"],\n",
    "    \"age\": [25, 30, 28, 35],\n",
    "    \"ID\": [101, 102, 103, 104], \n",
    "    \"salary\": [50000, 60000, 55000, 70000],\n",
    "    \"email\": [\"alice@example.com\", \"bob@example.com\", \"charlie@example.com\", \"david@example.com\"],\n",
    "    \"department\": [\"HR\", \"IT\", \"Finance\", \"Marketing\"],  \n",
    "    \"joining_date\": [\"2021-05-10\", \"2019-08-22\", \"2020-11-15\", \"2018-04-30\"],  \n",
    "    \"experience\": [3, 5, 4, 7],  \n",
    "}\n"
   ]
  },
  {
   "cell_type": "code",
   "execution_count": 125,
   "id": "6750994e-4bf9-4cdb-b0a4-32a469ca719f",
   "metadata": {},
   "outputs": [
    {
     "data": {
      "text/html": [
       "<div>\n",
       "<style scoped>\n",
       "    .dataframe tbody tr th:only-of-type {\n",
       "        vertical-align: middle;\n",
       "    }\n",
       "\n",
       "    .dataframe tbody tr th {\n",
       "        vertical-align: top;\n",
       "    }\n",
       "\n",
       "    .dataframe thead th {\n",
       "        text-align: right;\n",
       "    }\n",
       "</style>\n",
       "<table border=\"1\" class=\"dataframe\">\n",
       "  <thead>\n",
       "    <tr style=\"text-align: right;\">\n",
       "      <th></th>\n",
       "      <th>Month</th>\n",
       "      <th>Region</th>\n",
       "      <th>Sales</th>\n",
       "    </tr>\n",
       "  </thead>\n",
       "  <tbody>\n",
       "    <tr>\n",
       "      <th>0</th>\n",
       "      <td>Jan</td>\n",
       "      <td>North</td>\n",
       "      <td>100</td>\n",
       "    </tr>\n",
       "    <tr>\n",
       "      <th>1</th>\n",
       "      <td>Jan</td>\n",
       "      <td>South</td>\n",
       "      <td>150</td>\n",
       "    </tr>\n",
       "    <tr>\n",
       "      <th>2</th>\n",
       "      <td>Feb</td>\n",
       "      <td>North</td>\n",
       "      <td>120</td>\n",
       "    </tr>\n",
       "    <tr>\n",
       "      <th>3</th>\n",
       "      <td>Feb</td>\n",
       "      <td>South</td>\n",
       "      <td>130</td>\n",
       "    </tr>\n",
       "    <tr>\n",
       "      <th>4</th>\n",
       "      <td>Mar</td>\n",
       "      <td>North</td>\n",
       "      <td>140</td>\n",
       "    </tr>\n",
       "    <tr>\n",
       "      <th>5</th>\n",
       "      <td>Mar</td>\n",
       "      <td>South</td>\n",
       "      <td>170</td>\n",
       "    </tr>\n",
       "  </tbody>\n",
       "</table>\n",
       "</div>"
      ],
      "text/plain": [
       "  Month Region  Sales\n",
       "0   Jan  North    100\n",
       "1   Jan  South    150\n",
       "2   Feb  North    120\n",
       "3   Feb  South    130\n",
       "4   Mar  North    140\n",
       "5   Mar  South    170"
      ]
     },
     "execution_count": 125,
     "metadata": {},
     "output_type": "execute_result"
    }
   ],
   "source": [
    "df = pd.DataFrame(data)\n",
    "df"
   ]
  },
  {
   "cell_type": "code",
   "execution_count": 53,
   "id": "1359988c-175e-4a14-b5ec-016a9af5c7f0",
   "metadata": {},
   "outputs": [
    {
     "data": {
      "text/html": [
       "<div>\n",
       "<style scoped>\n",
       "    .dataframe tbody tr th:only-of-type {\n",
       "        vertical-align: middle;\n",
       "    }\n",
       "\n",
       "    .dataframe tbody tr th {\n",
       "        vertical-align: top;\n",
       "    }\n",
       "\n",
       "    .dataframe thead th {\n",
       "        text-align: right;\n",
       "    }\n",
       "</style>\n",
       "<table border=\"1\" class=\"dataframe\">\n",
       "  <thead>\n",
       "    <tr style=\"text-align: right;\">\n",
       "      <th></th>\n",
       "      <th>ID</th>\n",
       "      <th>Name</th>\n",
       "      <th>salary</th>\n",
       "      <th>email</th>\n",
       "    </tr>\n",
       "  </thead>\n",
       "  <tbody>\n",
       "    <tr>\n",
       "      <th>0</th>\n",
       "      <td>103</td>\n",
       "      <td>Alice</td>\n",
       "      <td>55000</td>\n",
       "      <td>charlie@example.com</td>\n",
       "    </tr>\n",
       "    <tr>\n",
       "      <th>1</th>\n",
       "      <td>104</td>\n",
       "      <td>Bob</td>\n",
       "      <td>70000</td>\n",
       "      <td>david@example.com</td>\n",
       "    </tr>\n",
       "    <tr>\n",
       "      <th>2</th>\n",
       "      <td>105</td>\n",
       "      <td>Charlie</td>\n",
       "      <td>45000</td>\n",
       "      <td>eve@example.com</td>\n",
       "    </tr>\n",
       "    <tr>\n",
       "      <th>3</th>\n",
       "      <td>106</td>\n",
       "      <td>David</td>\n",
       "      <td>48000</td>\n",
       "      <td>frank@example.com</td>\n",
       "    </tr>\n",
       "  </tbody>\n",
       "</table>\n",
       "</div>"
      ],
      "text/plain": [
       "    ID     Name  salary                email\n",
       "0  103    Alice   55000  charlie@example.com\n",
       "1  104      Bob   70000    david@example.com\n",
       "2  105  Charlie   45000      eve@example.com\n",
       "3  106    David   48000    frank@example.com"
      ]
     },
     "execution_count": 53,
     "metadata": {},
     "output_type": "execute_result"
    }
   ],
   "source": [
    "data2 = {\n",
    "    \"ID\": [103, 104, 105, 106],\n",
    "    \"Name\": [\"Alice\", \"Bob\", \"Charlie\", \"David\"],# Notice IDs 105 & 106 are extra\n",
    "    \"salary\": [55000, 70000, 45000, 48000],\n",
    "    \"email\": [\"charlie@example.com\", \"david@example.com\", \"eve@example.com\", \"frank@example.com\"]\n",
    "}\n",
    "num_col='salary'\n",
    "df2=pd.DataFrame(data2)\n",
    "df2\n"
   ]
  },
  {
   "cell_type": "code",
   "execution_count": 106,
   "id": "0fec3fe0-33f8-42b7-951e-046d59885e2d",
   "metadata": {},
   "outputs": [
    {
     "data": {
      "text/html": [
       "<div>\n",
       "<style scoped>\n",
       "    .dataframe tbody tr th:only-of-type {\n",
       "        vertical-align: middle;\n",
       "    }\n",
       "\n",
       "    .dataframe tbody tr th {\n",
       "        vertical-align: top;\n",
       "    }\n",
       "\n",
       "    .dataframe thead th {\n",
       "        text-align: right;\n",
       "    }\n",
       "</style>\n",
       "<table border=\"1\" class=\"dataframe\">\n",
       "  <thead>\n",
       "    <tr style=\"text-align: right;\">\n",
       "      <th></th>\n",
       "      <th>Name</th>\n",
       "      <th>age</th>\n",
       "      <th>ID_x</th>\n",
       "      <th>salary_x</th>\n",
       "      <th>email_x</th>\n",
       "      <th>department</th>\n",
       "      <th>joining_date</th>\n",
       "      <th>experience</th>\n",
       "      <th>ID_y</th>\n",
       "      <th>salary_y</th>\n",
       "      <th>email_y</th>\n",
       "    </tr>\n",
       "  </thead>\n",
       "  <tbody>\n",
       "    <tr>\n",
       "      <th>0</th>\n",
       "      <td>Alice</td>\n",
       "      <td>25</td>\n",
       "      <td>101</td>\n",
       "      <td>50000</td>\n",
       "      <td>alice@example.com</td>\n",
       "      <td>HR</td>\n",
       "      <td>2021-05-10</td>\n",
       "      <td>3</td>\n",
       "      <td>103</td>\n",
       "      <td>55000</td>\n",
       "      <td>charlie@example.com</td>\n",
       "    </tr>\n",
       "    <tr>\n",
       "      <th>1</th>\n",
       "      <td>Bob</td>\n",
       "      <td>30</td>\n",
       "      <td>102</td>\n",
       "      <td>60000</td>\n",
       "      <td>bob@example.com</td>\n",
       "      <td>IT</td>\n",
       "      <td>2019-08-22</td>\n",
       "      <td>5</td>\n",
       "      <td>104</td>\n",
       "      <td>70000</td>\n",
       "      <td>david@example.com</td>\n",
       "    </tr>\n",
       "    <tr>\n",
       "      <th>2</th>\n",
       "      <td>Charlie</td>\n",
       "      <td>28</td>\n",
       "      <td>103</td>\n",
       "      <td>55000</td>\n",
       "      <td>charlie@example.com</td>\n",
       "      <td>Finance</td>\n",
       "      <td>2020-11-15</td>\n",
       "      <td>4</td>\n",
       "      <td>105</td>\n",
       "      <td>45000</td>\n",
       "      <td>eve@example.com</td>\n",
       "    </tr>\n",
       "    <tr>\n",
       "      <th>3</th>\n",
       "      <td>David</td>\n",
       "      <td>35</td>\n",
       "      <td>104</td>\n",
       "      <td>70000</td>\n",
       "      <td>david@example.com</td>\n",
       "      <td>Marketing</td>\n",
       "      <td>2018-04-30</td>\n",
       "      <td>7</td>\n",
       "      <td>106</td>\n",
       "      <td>48000</td>\n",
       "      <td>frank@example.com</td>\n",
       "    </tr>\n",
       "  </tbody>\n",
       "</table>\n",
       "</div>"
      ],
      "text/plain": [
       "      Name  age  ID_x  salary_x              email_x department joining_date  \\\n",
       "0    Alice   25   101     50000    alice@example.com         HR   2021-05-10   \n",
       "1      Bob   30   102     60000      bob@example.com         IT   2019-08-22   \n",
       "2  Charlie   28   103     55000  charlie@example.com    Finance   2020-11-15   \n",
       "3    David   35   104     70000    david@example.com  Marketing   2018-04-30   \n",
       "\n",
       "   experience  ID_y  salary_y              email_y  \n",
       "0           3   103     55000  charlie@example.com  \n",
       "1           5   104     70000    david@example.com  \n",
       "2           4   105     45000      eve@example.com  \n",
       "3           7   106     48000    frank@example.com  "
      ]
     },
     "execution_count": 106,
     "metadata": {},
     "output_type": "execute_result"
    }
   ],
   "source": [
    "df_inner = pd.merge(df,df2, on=\"Name\", how=\"inner\")\n",
    "df_inner.head()"
   ]
  },
  {
   "cell_type": "code",
   "execution_count": 90,
   "id": "185f1d4b-4a93-4a38-9bd4-7a81d3384678",
   "metadata": {},
   "outputs": [
    {
     "data": {
      "text/plain": [
       "Index(['cat_column', 'num_column_1', 'num_column_2'], dtype='object')"
      ]
     },
     "execution_count": 90,
     "metadata": {},
     "output_type": "execute_result"
    }
   ],
   "source": [
    "df.columns"
   ]
  },
  {
   "cell_type": "code",
   "execution_count": null,
   "id": "acc4b121-a164-4da6-a9ba-0caed5c7be79",
   "metadata": {},
   "outputs": [],
   "source": []
  },
  {
   "cell_type": "code",
   "execution_count": null,
   "id": "7d174efd-33c6-4c76-a567-4c0813740ca1",
   "metadata": {},
   "outputs": [],
   "source": []
  },
  {
   "cell_type": "code",
   "execution_count": 35,
   "id": "54fba71c-d555-467b-a591-e6fb425c3549",
   "metadata": {},
   "outputs": [
    {
     "name": "stdout",
     "output_type": "stream",
     "text": [
      "      Name   age   ID  salary                email department joining_date  \\\n",
      "0    Alice  25.0  101   50000    alice@example.com         HR   2021-05-10   \n",
      "1      Bob  30.0  102   60000      bob@example.com         IT   2019-08-22   \n",
      "2  Charlie  28.0  103   55000  charlie@example.com    Finance   2020-11-15   \n",
      "3    David  35.0  104   70000    david@example.com  Marketing   2018-04-30   \n",
      "4      NaN   NaN  103   55000  charlie@example.com        NaN          NaN   \n",
      "5      NaN   NaN  104   70000    david@example.com        NaN          NaN   \n",
      "6      NaN   NaN  105   45000      eve@example.com        NaN          NaN   \n",
      "7      NaN   NaN  106   48000    frank@example.com        NaN          NaN   \n",
      "\n",
      "   experience  \n",
      "0         3.0  \n",
      "1         5.0  \n",
      "2         4.0  \n",
      "3         7.0  \n",
      "4         NaN  \n",
      "5         NaN  \n",
      "6         NaN  \n",
      "7         NaN  \n"
     ]
    }
   ],
   "source": [
    "df_combined = pd.concat([df,data2], ignore_index=True)\n",
    "print(df_combined)"
   ]
  },
  {
   "cell_type": "code",
   "execution_count": 37,
   "id": "3d56652c-e946-4f58-a96a-4a3c89f9e7b0",
   "metadata": {},
   "outputs": [],
   "source": [
    "cross_tab= pd.crosstab(df[\"department\"], df[\"experience\"])"
   ]
  },
  {
   "cell_type": "code",
   "execution_count": 39,
   "id": "d41cdbb9-537c-4261-8d86-afd2248aed1b",
   "metadata": {},
   "outputs": [
    {
     "name": "stdout",
     "output_type": "stream",
     "text": [
      "experience  3  4  5  7\n",
      "department            \n",
      "Finance     0  1  0  0\n",
      "HR          1  0  0  0\n",
      "IT          0  0  1  0\n",
      "Marketing   0  0  0  1\n"
     ]
    }
   ],
   "source": [
    "print(cross_tab)"
   ]
  },
  {
   "cell_type": "code",
   "execution_count": 41,
   "id": "72a4f82c-1c65-4d7c-9d0b-514e07cff62f",
   "metadata": {},
   "outputs": [
    {
     "name": "stdout",
     "output_type": "stream",
     "text": [
      "salary\n",
      "50000    1\n",
      "60000    1\n",
      "55000    1\n",
      "70000    1\n",
      "Name: count, dtype: int64\n"
     ]
    }
   ],
   "source": [
    "counts = df[\"salary\"].value_counts()\n",
    "print(counts)"
   ]
  },
  {
   "cell_type": "code",
   "execution_count": 45,
   "id": "06b77f3f-5fdd-43de-8c19-7784a5df86e8",
   "metadata": {},
   "outputs": [
    {
     "data": {
      "text/plain": [
       "salary\n",
       "50000    0.25\n",
       "60000    0.25\n",
       "55000    0.25\n",
       "70000    0.25\n",
       "Name: proportion, dtype: float64"
      ]
     },
     "execution_count": 45,
     "metadata": {},
     "output_type": "execute_result"
    }
   ],
   "source": [
    "counts=df[\"salary\"].value_counts(normalize=True)\n",
    "counts"
   ]
  },
  {
   "cell_type": "code",
   "execution_count": 49,
   "id": "b0c3035f-f8af-41d7-b49a-9d963dec6146",
   "metadata": {},
   "outputs": [
    {
     "data": {
      "text/plain": [
       "department\n",
       "Finance      55000.0\n",
       "HR           50000.0\n",
       "IT           60000.0\n",
       "Marketing    70000.0\n",
       "Name: salary, dtype: float64"
      ]
     },
     "execution_count": 49,
     "metadata": {},
     "output_type": "execute_result"
    }
   ],
   "source": [
    "grouped_var = df.groupby(\"department\")[\"salary\"].mean()\n",
    "grouped_var"
   ]
  },
  {
   "cell_type": "code",
   "execution_count": 51,
   "id": "c88f1237-f723-40eb-94cb-28980a52de54",
   "metadata": {},
   "outputs": [
    {
     "name": "stdout",
     "output_type": "stream",
     "text": [
      "             age          ID        salary  experience\n",
      "count   4.000000    4.000000      4.000000    4.000000\n",
      "mean   29.500000  102.500000  58750.000000    4.750000\n",
      "std     4.203173    1.290994   8539.125638    1.707825\n",
      "min    25.000000  101.000000  50000.000000    3.000000\n",
      "25%    27.250000  101.750000  53750.000000    3.750000\n",
      "50%    29.000000  102.500000  57500.000000    4.500000\n",
      "75%    31.250000  103.250000  62500.000000    5.500000\n",
      "max    35.000000  104.000000  70000.000000    7.000000\n"
     ]
    }
   ],
   "source": [
    "print(df.describe())"
   ]
  },
  {
   "cell_type": "code",
   "execution_count": 92,
   "id": "5a276214-fd15-426b-b171-47d501bc999b",
   "metadata": {},
   "outputs": [
    {
     "name": "stdout",
     "output_type": "stream",
     "text": [
      "            new_cat_column  new_num_column_1  new_num_column_2\n",
      "cat_column                                                    \n",
      "A                        3         12.333333        123.333333\n",
      "B                        2         25.000000        250.000000\n",
      "C                        2         26.000000        260.000000\n"
     ]
    }
   ],
   "source": [
    "data3= {\n",
    "    \"cat_column\": [\"A\", \"B\", \"A\", \"C\", \"B\", \"A\", \"C\"],\n",
    "    \"num_column_1\": [10, 20, 15, 25, 30, 12, 27],\n",
    "    \"num_column_2\": [100, 200, 150, 250, 300, 120, 270]\n",
    "}\n",
    "df3 = pd.DataFrame(data3)\n",
    "pivot_table = df.pivot_table(index=\"cat_column\", \n",
    "                             values=[\"num_column_1\", \"num_column_2\"], \n",
    "                             aggfunc={\"cat_column\": \"count\", \n",
    "                                      \"num_column_1\": \"mean\", \n",
    "                                      \"num_column_2\": \"mean\"})\n",
    "pivot_table = pivot_table.rename(columns={\"cat_column\": \"new_cat_column\", \n",
    "                                          \"num_column_1\": \"new_num_column_1\", \n",
    "                                          \"num_column_2\": \"new_num_column_2\"})\n",
    "\n",
    "print(pivot_table)"
   ]
  },
  {
   "cell_type": "code",
   "execution_count": 55,
   "id": "d9867d6f-dcb8-46d5-b4d1-3f4b15bf1f6f",
   "metadata": {},
   "outputs": [
    {
     "data": {
      "text/plain": [
       "cat_column      object\n",
       "num_column_1     int64\n",
       "num_column_2     int64\n",
       "dtype: object"
      ]
     },
     "execution_count": 55,
     "metadata": {},
     "output_type": "execute_result"
    }
   ],
   "source": [
    "df.dtypes"
   ]
  },
  {
   "cell_type": "code",
   "execution_count": 33,
   "id": "fd6b8e6e-8130-4a33-8788-af0474b6f082",
   "metadata": {},
   "outputs": [],
   "source": [
    "import pandas as pd\n",
    "import matplotlib.pyplot as plt\n",
    "import seaborn as sns"
   ]
  },
  {
   "cell_type": "code",
   "execution_count": 41,
   "id": "04730346-8dd7-4bd8-a3c9-4d23d177696f",
   "metadata": {},
   "outputs": [],
   "source": [
    "data = pd.DataFrame({\n",
    "    'Gender': ['Male', 'Female', 'Male', 'Female', 'Male', 'Female', 'Male', 'Female'],\n",
    "    'Subscription': ['Basic', 'Premium', 'Premium', 'Basic', 'Basic', 'Premium', 'Premium', 'Basic']\n",
    "})\n"
   ]
  },
  {
   "cell_type": "code",
   "execution_count": 43,
   "id": "9cf1188d-2e2f-46ff-8546-a6d165ba0fa8",
   "metadata": {},
   "outputs": [
    {
     "name": "stdout",
     "output_type": "stream",
     "text": [
      "Subscription  Basic  Premium\n",
      "Gender                      \n",
      "Female            2        2\n",
      "Male              2        2\n"
     ]
    }
   ],
   "source": [
    "cross_tab = pd.crosstab(data['Gender'], data['Subscription'])\n",
    "print(cross_tab)"
   ]
  },
  {
   "cell_type": "code",
   "execution_count": 45,
   "id": "204079eb-f324-4291-9124-68adaab7ee16",
   "metadata": {},
   "outputs": [
    {
     "data": {
      "text/plain": [
       "<Figure size 600x400 with 0 Axes>"
      ]
     },
     "metadata": {},
     "output_type": "display_data"
    },
    {
     "data": {
      "image/png": "[encoded data removed]",
      "text/plain": [
       "<Figure size 640x480 with 1 Axes>"
      ]
     },
     "metadata": {},
     "output_type": "display_data"
    }
   ],
   "source": [
    "plt.figure(figsize=(6,4))  \n",
    "cross_tab.plot(kind='bar', stacked=False, colormap='viridis')\n",
    "plt.title('Subscription Type by Gender')  \n",
    "plt.xlabel('Gender')  \n",
    "plt.ylabel('Frequency')  \n",
    "plt.legend(title='Subscription')  \n",
    "plt.show()  "
   ]
  },
  {
   "cell_type": "code",
   "execution_count": 67,
   "id": "85ebb8e1-3a5b-4df5-a976-540288beac0b",
   "metadata": {},
   "outputs": [],
   "source": [
    "data4 = pd.DataFrame({\n",
    "    'Salary': [45000, 55000, 48000, 70000, 62000, 58000, 75000, 43000, 69000, 52000]\n",
    "})\n",
    "\n",
    "num_col = 'Salary'  # The numeric column to analyze"
   ]
  },
  {
   "cell_type": "code",
   "execution_count": null,
   "id": "a45bac46-e807-4cbb-be4d-90923b1f4a51",
   "metadata": {},
   "outputs": [],
   "source": []
  },
  {
   "cell_type": "code",
   "execution_count": 69,
   "id": "1f44d7fd-101b-4f6b-8766-89d32a9bf461",
   "metadata": {},
   "outputs": [
    {
     "data": {
      "image/png": "[encoded data removed]",
      "text/plain": [
       "<Figure size 600x400 with 1 Axes>"
      ]
     },
     "metadata": {},
     "output_type": "display_data"
    }
   ],
   "source": [
    "plt.figure(figsize=(6,4))  # Set figure size\n",
    "data[num_col].plot(kind='hist', bins=5, color='skyblue', edgecolor='black')  # Histogram plot\n",
    "plt.title('Salary Distribution')  # Title\n",
    "plt.xlabel('Salary Range')  # X-axis label\n",
    "plt.ylabel('Frequency')  # Y-axis label\n",
    "plt.show()  # Display the plot"
   ]
  },
  {
   "cell_type": "code",
   "execution_count": 71,
   "id": "eaba5945-175e-4ebc-98e0-aae689539805",
   "metadata": {},
   "outputs": [
    {
     "data": {
      "image/png": "[encoded data removed]",
      "text/plain": [
       "<Figure size 600x400 with 1 Axes>"
      ]
     },
     "metadata": {},
     "output_type": "display_data"
    }
   ],
   "source": [
    "plt.figure(figsize=(6,4))  # Set figure size\n",
    "sns.histplot(data[num_col], bins=5, kde=True, color='purple')  # Seaborn histogram with KDE (Density curve)\n",
    "plt.title('Salary Distribution')  # Title\n",
    "plt.xlabel('Salary Range')  # X-axis label\n",
    "plt.ylabel('Count')  # Y-axis label\n",
    "plt.show()  # Display the plot"
   ]
  },
  {
   "cell_type": "code",
   "execution_count": 73,
   "id": "37b63501-1e3c-4ac2-b181-6c9d969b5b1b",
   "metadata": {},
   "outputs": [],
   "source": [
    "labels = ['HR', 'Finance', 'IT', 'Marketing']\n",
    "percentage = [20, 30, 35, 15] "
   ]
  },
  {
   "cell_type": "code",
   "execution_count": 113,
   "id": "cbe8fa4b-f47c-4fb1-9d0d-f1f9d3dfa271",
   "metadata": {},
   "outputs": [
    {
     "data": {
      "image/png": "[encoded data removed]",
      "text/plain": [
       "<Figure size 600x600 with 1 Axes>"
      ]
     },
     "metadata": {},
     "output_type": "display_data"
    }
   ],
   "source": [
    "plt.figure(figsize=(6, 6))\n",
    "plt.pie(percentage,labels=labels, autopct='%1.2f%%',colors=['blue', 'green', 'red', 'purple'])\n",
    "plt.title('Department Contribution') \n",
    "plt.ylabel(' ')\n",
    "plt.show()"
   ]
  },
  {
   "cell_type": "code",
   "execution_count": 99,
   "id": "5c487240-5b66-4eec-b94d-15e5ed5e8f6f",
   "metadata": {},
   "outputs": [],
   "source": [
    "data = pd.DataFrame({\n",
    "    'Month': ['Jan', 'Jan', 'Feb', 'Feb', 'Mar', 'Mar'],\n",
    "    'Region': ['North', 'South', 'North', 'South', 'North', 'South'],\n",
    "    'Sales': [100, 150, 120, 130, 140, 170]\n",
    "})"
   ]
  },
  {
   "cell_type": "code",
   "execution_count": 101,
   "id": "dfcee22f-1bac-4f3e-87db-7800971188fc",
   "metadata": {},
   "outputs": [],
   "source": [
    "group_by = data.groupby('Month')['Sales'].sum()"
   ]
  },
  {
   "cell_type": "code",
   "execution_count": 161,
   "id": "7aaced18-a7a7-428f-a478-bd539aa1e219",
   "metadata": {},
   "outputs": [
    {
     "data": {
      "image/png": "[encoded data removed]",
      "text/plain": [
       "<Figure size 800x500 with 1 Axes>"
      ]
     },
     "metadata": {},
     "output_type": "display_data"
    }
   ],
   "source": [
    "plt.figure(figsize=(8, 5))\n",
    "group_by.plot(kind='line', marker='o')\n",
    "plt.title('Total Monthly Sales')\n",
    "plt.xlabel('Month')\n",
    "plt.ylabel('Sales')\n",
    "plt.show()"
   ]
  },
  {
   "cell_type": "code",
   "execution_count": 155,
   "id": "bf5e2866-e0a0-4e7e-bd5d-2159634cc8f5",
   "metadata": {},
   "outputs": [],
   "source": [
    "data = pd.DataFrame({\n",
    "    'CustomerID': [1, 2, 3, 4, 5, 6, 7],\n",
    "    'Churn': ['Yes', 'No', 'No', 'Yes', 'No', 'Yes', 'No']\n",
    "})"
   ]
  },
  {
   "cell_type": "code",
   "execution_count": 157,
   "id": "56bd60e1-3c9a-48c5-9e4f-7979516c32ce",
   "metadata": {},
   "outputs": [],
   "source": [
    "freq_churned = data['Churn'].value_counts()"
   ]
  },
  {
   "cell_type": "code",
   "execution_count": 159,
   "id": "50f0dc3f-aca6-4b5d-8650-21cc7335efb4",
   "metadata": {},
   "outputs": [
    {
     "data": {
      "image/png": "[encoded data removed]",
      "text/plain": [
       "<Figure size 600x400 with 1 Axes>"
      ]
     },
     "metadata": {},
     "output_type": "display_data"
    }
   ],
   "source": [
    "plt.figure(figsize=(6, 4))\n",
    "freq_churned.plot(kind='bar', color=['red', 'green'])\n",
    "plt.title('Customer Churn Frequency')\n",
    "plt.xlabel('Churn Status')\n",
    "plt.ylabel('Number of Customers')\n",
    "plt.show()"
   ]
  },
  {
   "cell_type": "code",
   "execution_count": null,
   "id": "bec6345f-eed3-46af-b8f0-695f0b7b2fc4",
   "metadata": {},
   "outputs": [],
   "source": []
  }
 ],
 "metadata": {
  "kernelspec": {
   "display_name": "Python [conda env:base] *",
   "language": "python",
   "name": "conda-base-py"
  },
  "language_info": {
   "codemirror_mode": {
    "name": "ipython",
    "version": 3
   },
   "file_extension": ".py",
   "mimetype": "text/x-python",
   "name": "python",
   "nbconvert_exporter": "python",
   "pygments_lexer": "ipython3",
   "version": "3.12.7"
  }
 },
 "nbformat": 4,
 "nbformat_minor": 5
}
