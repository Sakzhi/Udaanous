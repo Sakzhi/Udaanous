{
 "cells": [
  {
   "cell_type": "code",
   "execution_count": 3,
   "id": "bbeca931-95f7-4610-bc14-b3fcab084001",
   "metadata": {},
   "outputs": [],
   "source": [
    "import pandas as pd\n",
    "import numpy as np\n",
    "import matplotlib.pyplot as plt\n",
    "import seaborn as sns"
   ]
  },
  {
   "cell_type": "code",
   "execution_count": 52,
   "id": "864cc427-5ba5-41bf-9dff-d0d5dbed01af",
   "metadata": {},
   "outputs": [
    {
     "data": {
      "text/html": [
       "<div>\n",
       "<style scoped>\n",
       "    .dataframe tbody tr th:only-of-type {\n",
       "        vertical-align: middle;\n",
       "    }\n",
       "\n",
       "    .dataframe tbody tr th {\n",
       "        vertical-align: top;\n",
       "    }\n",
       "\n",
       "    .dataframe thead th {\n",
       "        text-align: right;\n",
       "    }\n",
       "</style>\n",
       "<table border=\"1\" class=\"dataframe\">\n",
       "  <thead>\n",
       "    <tr style=\"text-align: right;\">\n",
       "      <th></th>\n",
       "      <th>EmployeeID</th>\n",
       "      <th>gender</th>\n",
       "      <th>department</th>\n",
       "      <th>Days Present</th>\n",
       "      <th>Accuracy of Work</th>\n",
       "      <th>Meeting Project Deadlines</th>\n",
       "      <th>Task Completion Rates</th>\n",
       "      <th>Interpersonal Skills Rating</th>\n",
       "      <th>Decision-Making Skills Rating</th>\n",
       "      <th>Sales Revenue Generated</th>\n",
       "      <th>churned</th>\n",
       "    </tr>\n",
       "  </thead>\n",
       "  <tbody>\n",
       "    <tr>\n",
       "      <th>0</th>\n",
       "      <td>1</td>\n",
       "      <td>Male</td>\n",
       "      <td>Sales</td>\n",
       "      <td>20</td>\n",
       "      <td>High</td>\n",
       "      <td>Yes</td>\n",
       "      <td>85</td>\n",
       "      <td>8</td>\n",
       "      <td>7</td>\n",
       "      <td>51638</td>\n",
       "      <td>No</td>\n",
       "    </tr>\n",
       "    <tr>\n",
       "      <th>1</th>\n",
       "      <td>2</td>\n",
       "      <td>Female</td>\n",
       "      <td>Marketing</td>\n",
       "      <td>22</td>\n",
       "      <td>Medium</td>\n",
       "      <td>Yes</td>\n",
       "      <td>90</td>\n",
       "      <td>7</td>\n",
       "      <td>6</td>\n",
       "      <td>97797</td>\n",
       "      <td>Yes</td>\n",
       "    </tr>\n",
       "    <tr>\n",
       "      <th>2</th>\n",
       "      <td>3</td>\n",
       "      <td>Male</td>\n",
       "      <td>Human Resources</td>\n",
       "      <td>25</td>\n",
       "      <td>High</td>\n",
       "      <td>No</td>\n",
       "      <td>80</td>\n",
       "      <td>9</td>\n",
       "      <td>8</td>\n",
       "      <td>95341</td>\n",
       "      <td>No</td>\n",
       "    </tr>\n",
       "    <tr>\n",
       "      <th>3</th>\n",
       "      <td>4</td>\n",
       "      <td>Male</td>\n",
       "      <td>Engineering</td>\n",
       "      <td>19</td>\n",
       "      <td>Low</td>\n",
       "      <td>Yes</td>\n",
       "      <td>75</td>\n",
       "      <td>6</td>\n",
       "      <td>5</td>\n",
       "      <td>91806</td>\n",
       "      <td>No</td>\n",
       "    </tr>\n",
       "    <tr>\n",
       "      <th>4</th>\n",
       "      <td>5</td>\n",
       "      <td>Female</td>\n",
       "      <td>Finance</td>\n",
       "      <td>23</td>\n",
       "      <td>Medium</td>\n",
       "      <td>Yes</td>\n",
       "      <td>85</td>\n",
       "      <td>7</td>\n",
       "      <td>7</td>\n",
       "      <td>64247</td>\n",
       "      <td>Yes</td>\n",
       "    </tr>\n",
       "  </tbody>\n",
       "</table>\n",
       "</div>"
      ],
      "text/plain": [
       "   EmployeeID  gender       department  Days Present Accuracy of Work  \\\n",
       "0           1    Male            Sales            20             High   \n",
       "1           2  Female        Marketing            22           Medium   \n",
       "2           3    Male  Human Resources            25             High   \n",
       "3           4    Male      Engineering            19              Low   \n",
       "4           5  Female          Finance            23           Medium   \n",
       "\n",
       "  Meeting Project Deadlines  Task Completion Rates  \\\n",
       "0                       Yes                     85   \n",
       "1                       Yes                     90   \n",
       "2                        No                     80   \n",
       "3                       Yes                     75   \n",
       "4                       Yes                     85   \n",
       "\n",
       "   Interpersonal Skills Rating  Decision-Making Skills Rating  \\\n",
       "0                            8                              7   \n",
       "1                            7                              6   \n",
       "2                            9                              8   \n",
       "3                            6                              5   \n",
       "4                            7                              7   \n",
       "\n",
       "   Sales Revenue Generated churned  \n",
       "0                    51638      No  \n",
       "1                    97797     Yes  \n",
       "2                    95341      No  \n",
       "3                    91806      No  \n",
       "4                    64247     Yes  "
      ]
     },
     "execution_count": 52,
     "metadata": {},
     "output_type": "execute_result"
    }
   ],
   "source": [
    "df=pd.read_excel('practice_data.xlsx')\n",
    "df.head()"
   ]
  },
  {
   "cell_type": "markdown",
   "id": "1505b8c4-388b-406b-a2b4-d1ecd3f8136f",
   "metadata": {},
   "source": [
    "# feature encoding"
   ]
  },
  {
   "cell_type": "code",
   "execution_count": 54,
   "id": "e2951884-e127-434d-8a0e-b2eca06953b1",
   "metadata": {},
   "outputs": [
    {
     "data": {
      "text/html": [
       "<div>\n",
       "<style scoped>\n",
       "    .dataframe tbody tr th:only-of-type {\n",
       "        vertical-align: middle;\n",
       "    }\n",
       "\n",
       "    .dataframe tbody tr th {\n",
       "        vertical-align: top;\n",
       "    }\n",
       "\n",
       "    .dataframe thead th {\n",
       "        text-align: right;\n",
       "    }\n",
       "</style>\n",
       "<table border=\"1\" class=\"dataframe\">\n",
       "  <thead>\n",
       "    <tr style=\"text-align: right;\">\n",
       "      <th></th>\n",
       "      <th>EmployeeID</th>\n",
       "      <th>gender</th>\n",
       "      <th>department</th>\n",
       "      <th>Days Present</th>\n",
       "      <th>Accuracy of Work</th>\n",
       "      <th>Meeting Project Deadlines</th>\n",
       "      <th>Task Completion Rates</th>\n",
       "      <th>Interpersonal Skills Rating</th>\n",
       "      <th>Decision-Making Skills Rating</th>\n",
       "      <th>Sales Revenue Generated</th>\n",
       "      <th>churned</th>\n",
       "      <th>encoded_feature</th>\n",
       "    </tr>\n",
       "  </thead>\n",
       "  <tbody>\n",
       "    <tr>\n",
       "      <th>0</th>\n",
       "      <td>1</td>\n",
       "      <td>Male</td>\n",
       "      <td>Sales</td>\n",
       "      <td>20</td>\n",
       "      <td>High</td>\n",
       "      <td>Yes</td>\n",
       "      <td>85</td>\n",
       "      <td>8</td>\n",
       "      <td>7</td>\n",
       "      <td>51638</td>\n",
       "      <td>No</td>\n",
       "      <td>1</td>\n",
       "    </tr>\n",
       "    <tr>\n",
       "      <th>1</th>\n",
       "      <td>2</td>\n",
       "      <td>Female</td>\n",
       "      <td>Marketing</td>\n",
       "      <td>22</td>\n",
       "      <td>Medium</td>\n",
       "      <td>Yes</td>\n",
       "      <td>90</td>\n",
       "      <td>7</td>\n",
       "      <td>6</td>\n",
       "      <td>97797</td>\n",
       "      <td>Yes</td>\n",
       "      <td>0</td>\n",
       "    </tr>\n",
       "    <tr>\n",
       "      <th>2</th>\n",
       "      <td>3</td>\n",
       "      <td>Male</td>\n",
       "      <td>Human Resources</td>\n",
       "      <td>25</td>\n",
       "      <td>High</td>\n",
       "      <td>No</td>\n",
       "      <td>80</td>\n",
       "      <td>9</td>\n",
       "      <td>8</td>\n",
       "      <td>95341</td>\n",
       "      <td>No</td>\n",
       "      <td>1</td>\n",
       "    </tr>\n",
       "    <tr>\n",
       "      <th>3</th>\n",
       "      <td>4</td>\n",
       "      <td>Male</td>\n",
       "      <td>Engineering</td>\n",
       "      <td>19</td>\n",
       "      <td>Low</td>\n",
       "      <td>Yes</td>\n",
       "      <td>75</td>\n",
       "      <td>6</td>\n",
       "      <td>5</td>\n",
       "      <td>91806</td>\n",
       "      <td>No</td>\n",
       "      <td>1</td>\n",
       "    </tr>\n",
       "    <tr>\n",
       "      <th>4</th>\n",
       "      <td>5</td>\n",
       "      <td>Female</td>\n",
       "      <td>Finance</td>\n",
       "      <td>23</td>\n",
       "      <td>Medium</td>\n",
       "      <td>Yes</td>\n",
       "      <td>85</td>\n",
       "      <td>7</td>\n",
       "      <td>7</td>\n",
       "      <td>64247</td>\n",
       "      <td>Yes</td>\n",
       "      <td>0</td>\n",
       "    </tr>\n",
       "  </tbody>\n",
       "</table>\n",
       "</div>"
      ],
      "text/plain": [
       "   EmployeeID  gender       department  Days Present Accuracy of Work  \\\n",
       "0           1    Male            Sales            20             High   \n",
       "1           2  Female        Marketing            22           Medium   \n",
       "2           3    Male  Human Resources            25             High   \n",
       "3           4    Male      Engineering            19              Low   \n",
       "4           5  Female          Finance            23           Medium   \n",
       "\n",
       "  Meeting Project Deadlines  Task Completion Rates  \\\n",
       "0                       Yes                     85   \n",
       "1                       Yes                     90   \n",
       "2                        No                     80   \n",
       "3                       Yes                     75   \n",
       "4                       Yes                     85   \n",
       "\n",
       "   Interpersonal Skills Rating  Decision-Making Skills Rating  \\\n",
       "0                            8                              7   \n",
       "1                            7                              6   \n",
       "2                            9                              8   \n",
       "3                            6                              5   \n",
       "4                            7                              7   \n",
       "\n",
       "   Sales Revenue Generated churned  encoded_feature  \n",
       "0                    51638      No                1  \n",
       "1                    97797     Yes                0  \n",
       "2                    95341      No                1  \n",
       "3                    91806      No                1  \n",
       "4                    64247     Yes                0  "
      ]
     },
     "execution_count": 54,
     "metadata": {},
     "output_type": "execute_result"
    }
   ],
   "source": [
    "from sklearn.preprocessing import LabelEncoder\n",
    "encoder=LabelEncoder()\n",
    "df['encoded_feature']=encoder.fit_transform(df['gender'])\n",
    "df.head()"
   ]
  },
  {
   "cell_type": "code",
   "execution_count": 24,
   "id": "a2b81fdf-ead7-4bec-8e52-3a66cf6510b7",
   "metadata": {},
   "outputs": [
    {
     "name": "stdout",
     "output_type": "stream",
     "text": [
      "EmployeeID                           1\n",
      "gender                            Male\n",
      "department                       Sales\n",
      "Days Present                        20\n",
      "Accuracy of Work                  High\n",
      "Meeting Project Deadlines          Yes\n",
      "Task Completion Rates               85\n",
      "Interpersonal Skills Rating          8\n",
      "Decision-Making Skills Rating        7\n",
      "Sales Revenue Generated          51638\n",
      "churned                             No\n",
      "encoded_feature                      1\n",
      "Name: 0, dtype: object\n"
     ]
    }
   ],
   "source": [
    "first_row=df.iloc[0]\n",
    "print(first_row)"
   ]
  },
  {
   "cell_type": "code",
   "execution_count": 30,
   "id": "e6746503-35a5-4a40-8ac8-b65313ba7d26",
   "metadata": {},
   "outputs": [
    {
     "name": "stdout",
     "output_type": "stream",
     "text": [
      "The first value of gender column is : Male\n"
     ]
    }
   ],
   "source": [
    "print('The first value of the gender column is :',df.gender[0])"
   ]
  },
  {
   "cell_type": "markdown",
   "id": "a8779514-fec3-4fc4-adc5-2ac48d9467fb",
   "metadata": {},
   "source": [
    "# selecting features"
   ]
  },
  {
   "cell_type": "code",
   "execution_count": 23,
   "id": "692dd98a-e5e7-4355-8a66-1cb74bd0f8d2",
   "metadata": {},
   "outputs": [
    {
     "name": "stdout",
     "output_type": "stream",
     "text": [
      "   age  monthly_spend contract_type\n",
      "0   25            200             A\n",
      "1   40            150             B\n",
      "2   35            300             A\n",
      "3   50            100             B\n",
      "4   28            250             A\n"
     ]
    }
   ],
   "source": [
    "import pandas as pd\n",
    "\n",
    "# Sample dataset\n",
    "data = pd.DataFrame({\n",
    "    'customer_id': [1, 2, 3, 4, 5],\n",
    "    'age': [25, 40, 35, 50, 28],\n",
    "    'monthly_spend': [200, 150, 300, 100, 250],\n",
    "    'contract_type': ['A', 'B', 'A', 'B', 'A'],\n",
    "    'churn': [1, 0, 1, 0, 1]\n",
    "})\n",
    "\n",
    "\n",
    "# Dropping irrelevant columns like customer ID\n",
    "x = data.drop(['customer_id', 'churn'], axis=1)  # Feature matrix\n",
    "y = data['churn']  # Target variable\n",
    "\n",
    "\n",
    "print(x)"
   ]
  },
  {
   "cell_type": "markdown",
   "id": "19358aac-26b9-4ce3-944a-20172d2b6792",
   "metadata": {},
   "source": [
    "# standard scaling"
   ]
  },
  {
   "cell_type": "code",
   "execution_count": 17,
   "id": "26d111b7-8b43-44ae-8bae-f0b41c73cdec",
   "metadata": {},
   "outputs": [
    {
     "name": "stdout",
     "output_type": "stream",
     "text": [
      "[[-1.12832963 -0.69787657]\n",
      " [ 0.19911699 -1.12733907]\n",
      " [-0.59735098  0.37577969]\n",
      " [ 1.52656362  1.44943594]]\n"
     ]
    }
   ],
   "source": [
    "from sklearn.preprocessing import StandardScaler\n",
    "import numpy as np\n",
    "\n",
    "# Sample feature set\n",
    "features = np.array([[10, 200], [15, 180], [12, 250], [20, 300]])\n",
    "\n",
    "# Initialize scaler\n",
    "scaler = StandardScaler()\n",
    "\n",
    "# Fit and transform the data\n",
    "scaled_features = scaler.fit_transform(features)\n",
    "\n",
    "print(scaled_features)"
   ]
  },
  {
   "cell_type": "markdown",
   "id": "1f4da892-daba-4d31-aa86-acc7236c1564",
   "metadata": {},
   "source": [
    "# MinMaxScaler"
   ]
  },
  {
   "cell_type": "code",
   "execution_count": 25,
   "id": "b5be506a-8102-4ce8-af12-64987a3b899b",
   "metadata": {},
   "outputs": [
    {
     "name": "stdout",
     "output_type": "stream",
     "text": [
      "[[0.5  0.5 ]\n",
      " [0.   0.  ]\n",
      " [1.   1.  ]\n",
      " [0.75 0.75]]\n"
     ]
    }
   ],
   "source": [
    "from sklearn.preprocessing import MinMaxScaler\n",
    "scaler=MinMaxScaler()\n",
    "scaled=scaler.fit_transform(features)\n",
    "print(scaled)\n"
   ]
  },
  {
   "cell_type": "markdown",
   "id": "7a1983ac-1e6f-45f3-bedb-5fc86e68471a",
   "metadata": {},
   "source": [
    "# PCA plots"
   ]
  },
  {
   "cell_type": "code",
   "execution_count": 78,
   "id": "0b65f981-8e42-47b2-b5ce-d3660ae332e9",
   "metadata": {},
   "outputs": [
    {
     "data": {
      "image/png": "[encoded data removed]",
      "text/plain": [
       "<Figure size 1000x600 with 1 Axes>"
      ]
     },
     "metadata": {},
     "output_type": "display_data"
    }
   ],
   "source": [
    "from sklearn.decomposition import PCA\n",
    "import numpy as np\n",
    "import matplotlib.pyplot as plt\n",
    "from sklearn.preprocessing import StandardScaler\n",
    "\n",
    "# Apply PCA\n",
    "pca = PCA()\n",
    "temp_pca=pca.fit_transform(df[['Sales Revenue Generated','Task Completion Rates']])\n",
    "\n",
    "# Explained variance ratio\n",
    "evr = pca.explained_variance_ratio_\n",
    "\n",
    "# Plot explained variance ratio\n",
    "plt.figure(figsize=(10, 6))\n",
    "plt.plot(range(1, len(evr) + 1), evr, marker='o', linestyle='-')\n",
    "plt.title('Sales Revenue Generated_PCA')\n",
    "plt.xlabel('Number of Components')\n",
    "plt.ylabel('Explained Variance Ratio')\n",
    "plt.show()"
   ]
  },
  {
   "cell_type": "markdown",
   "id": "be759ab3-2472-45eb-a51f-7cb657f6440e",
   "metadata": {},
   "source": [
    "# Variable ratio"
   ]
  },
  {
   "cell_type": "code",
   "execution_count": 33,
   "id": "9101acc3-cad5-4017-8614-3cd4ea170c3d",
   "metadata": {},
   "outputs": [
    {
     "name": "stdout",
     "output_type": "stream",
     "text": [
      "Explained Variance Ratio: [0.74007103 0.25112078]\n",
      "Transformed Data (PCA):\n",
      " [[-0.07219519  0.33987877]\n",
      " [-2.58964552 -0.70987509]\n",
      " [ 2.56790145 -1.29082708]\n",
      " [-0.81657374  0.00652649]\n",
      " [ 0.91051301  1.65429691]]\n"
     ]
    }
   ],
   "source": [
    "\n",
    "scaler = StandardScaler()\n",
    "scaled_data = scaler.fit_transform(data)\n",
    "num_val = 2  \n",
    "pca = PCA(n_components=num_val)\n",
    "x_pca = pca.fit_transform(scaled_data)\n",
    "print(\"Explained Variance Ratio:\", pca.explained_variance_ratio_)\n",
    "print(\"Transformed Data (PCA):\\n\", x_pca)\n"
   ]
  },
  {
   "cell_type": "code",
   "execution_count": 81,
   "id": "4622ef68-7b8c-46b5-b303-deeb5a161976",
   "metadata": {},
   "outputs": [
    {
     "data": {
      "text/html": [
       "<div>\n",
       "<style scoped>\n",
       "    .dataframe tbody tr th:only-of-type {\n",
       "        vertical-align: middle;\n",
       "    }\n",
       "\n",
       "    .dataframe tbody tr th {\n",
       "        vertical-align: top;\n",
       "    }\n",
       "\n",
       "    .dataframe thead th {\n",
       "        text-align: right;\n",
       "    }\n",
       "</style>\n",
       "<table border=\"1\" class=\"dataframe\">\n",
       "  <thead>\n",
       "    <tr style=\"text-align: right;\">\n",
       "      <th></th>\n",
       "      <th>EmployeeID</th>\n",
       "      <th>gender</th>\n",
       "      <th>department</th>\n",
       "      <th>Days Present</th>\n",
       "      <th>Accuracy of Work</th>\n",
       "      <th>Meeting Project Deadlines</th>\n",
       "      <th>Task Completion Rates</th>\n",
       "      <th>Interpersonal Skills Rating</th>\n",
       "      <th>Decision-Making Skills Rating</th>\n",
       "      <th>Sales Revenue Generated</th>\n",
       "      <th>churned</th>\n",
       "      <th>encoded_feature</th>\n",
       "    </tr>\n",
       "  </thead>\n",
       "  <tbody>\n",
       "    <tr>\n",
       "      <th>0</th>\n",
       "      <td>1</td>\n",
       "      <td>Male</td>\n",
       "      <td>Sales</td>\n",
       "      <td>20</td>\n",
       "      <td>High</td>\n",
       "      <td>Yes</td>\n",
       "      <td>0.854965</td>\n",
       "      <td>8</td>\n",
       "      <td>7</td>\n",
       "      <td>-23477.741935</td>\n",
       "      <td>No</td>\n",
       "      <td>1</td>\n",
       "    </tr>\n",
       "    <tr>\n",
       "      <th>1</th>\n",
       "      <td>2</td>\n",
       "      <td>Female</td>\n",
       "      <td>Marketing</td>\n",
       "      <td>22</td>\n",
       "      <td>Medium</td>\n",
       "      <td>Yes</td>\n",
       "      <td>1.407129</td>\n",
       "      <td>7</td>\n",
       "      <td>6</td>\n",
       "      <td>22681.258065</td>\n",
       "      <td>Yes</td>\n",
       "      <td>0</td>\n",
       "    </tr>\n",
       "    <tr>\n",
       "      <th>2</th>\n",
       "      <td>3</td>\n",
       "      <td>Male</td>\n",
       "      <td>Human Resources</td>\n",
       "      <td>25</td>\n",
       "      <td>High</td>\n",
       "      <td>No</td>\n",
       "      <td>0.302800</td>\n",
       "      <td>9</td>\n",
       "      <td>8</td>\n",
       "      <td>20225.258065</td>\n",
       "      <td>No</td>\n",
       "      <td>1</td>\n",
       "    </tr>\n",
       "    <tr>\n",
       "      <th>3</th>\n",
       "      <td>4</td>\n",
       "      <td>Male</td>\n",
       "      <td>Engineering</td>\n",
       "      <td>19</td>\n",
       "      <td>Low</td>\n",
       "      <td>Yes</td>\n",
       "      <td>-0.249365</td>\n",
       "      <td>6</td>\n",
       "      <td>5</td>\n",
       "      <td>16690.258065</td>\n",
       "      <td>No</td>\n",
       "      <td>1</td>\n",
       "    </tr>\n",
       "    <tr>\n",
       "      <th>4</th>\n",
       "      <td>5</td>\n",
       "      <td>Female</td>\n",
       "      <td>Finance</td>\n",
       "      <td>23</td>\n",
       "      <td>Medium</td>\n",
       "      <td>Yes</td>\n",
       "      <td>0.854965</td>\n",
       "      <td>7</td>\n",
       "      <td>7</td>\n",
       "      <td>-10868.741935</td>\n",
       "      <td>Yes</td>\n",
       "      <td>0</td>\n",
       "    </tr>\n",
       "  </tbody>\n",
       "</table>\n",
       "</div>"
      ],
      "text/plain": [
       "   EmployeeID  gender       department  Days Present Accuracy of Work  \\\n",
       "0           1    Male            Sales            20             High   \n",
       "1           2  Female        Marketing            22           Medium   \n",
       "2           3    Male  Human Resources            25             High   \n",
       "3           4    Male      Engineering            19              Low   \n",
       "4           5  Female          Finance            23           Medium   \n",
       "\n",
       "  Meeting Project Deadlines  Task Completion Rates  \\\n",
       "0                       Yes               0.854965   \n",
       "1                       Yes               1.407129   \n",
       "2                        No               0.302800   \n",
       "3                       Yes              -0.249365   \n",
       "4                       Yes               0.854965   \n",
       "\n",
       "   Interpersonal Skills Rating  Decision-Making Skills Rating  \\\n",
       "0                            8                              7   \n",
       "1                            7                              6   \n",
       "2                            9                              8   \n",
       "3                            6                              5   \n",
       "4                            7                              7   \n",
       "\n",
       "   Sales Revenue Generated churned  encoded_feature  \n",
       "0            -23477.741935      No                1  \n",
       "1             22681.258065     Yes                0  \n",
       "2             20225.258065      No                1  \n",
       "3             16690.258065      No                1  \n",
       "4            -10868.741935     Yes                0  "
      ]
     },
     "execution_count": 81,
     "metadata": {},
     "output_type": "execute_result"
    }
   ],
   "source": [
    "df.head()"
   ]
  },
  {
   "cell_type": "markdown",
   "id": "f1f43fba-5945-472d-9ad2-d3b8d2b4d716",
   "metadata": {},
   "source": [
    "# MinMaxScaler"
   ]
  },
  {
   "cell_type": "code",
   "execution_count": 58,
   "id": "771084ae-9696-469d-8dea-fb1f1fd868c0",
   "metadata": {},
   "outputs": [
    {
     "data": {
      "text/plain": [
       "0     0.714286\n",
       "1     0.857143\n",
       "2     0.571429\n",
       "3     0.428571\n",
       "4     0.714286\n",
       "5     1.000000\n",
       "6     0.285714\n",
       "7     0.571429\n",
       "8     0.857143\n",
       "9     0.714286\n",
       "10    0.428571\n",
       "11    0.285714\n",
       "12    0.571429\n",
       "13    0.857143\n",
       "14    0.142857\n",
       "15    0.428571\n",
       "16    0.714286\n",
       "17    0.571429\n",
       "18    0.285714\n",
       "19    0.142857\n",
       "20    0.428571\n",
       "21    0.714286\n",
       "22    0.000000\n",
       "23    0.285714\n",
       "24    0.571429\n",
       "25    0.142857\n",
       "26    0.428571\n",
       "27    0.714286\n",
       "28    0.000000\n",
       "29    0.285714\n",
       "30    0.571429\n",
       "Name: Task Completion Rates, dtype: float64"
      ]
     },
     "execution_count": 58,
     "metadata": {},
     "output_type": "execute_result"
    }
   ],
   "source": [
    "scaler=MinMaxScaler()\n",
    "df['Task Completion Rates']=scaler.fit_transform(df[['Task Completion Rates']])\n",
    "df['Task Completion Rates']\n"
   ]
  },
  {
   "cell_type": "markdown",
   "id": "16b61f0a-aa2d-4641-9302-f0a4fa30a5e8",
   "metadata": {},
   "source": [
    "# Standard Scaler"
   ]
  },
  {
   "cell_type": "code",
   "execution_count": 60,
   "id": "bf312022-516f-451c-ab7a-005221e9c970",
   "metadata": {},
   "outputs": [
    {
     "data": {
      "text/plain": [
       "0     0.854965\n",
       "1     1.407129\n",
       "2     0.302800\n",
       "3    -0.249365\n",
       "4     0.854965\n",
       "5     1.959294\n",
       "6    -0.801529\n",
       "7     0.302800\n",
       "8     1.407129\n",
       "9     0.854965\n",
       "10   -0.249365\n",
       "11   -0.801529\n",
       "12    0.302800\n",
       "13    1.407129\n",
       "14   -1.353694\n",
       "15   -0.249365\n",
       "16    0.854965\n",
       "17    0.302800\n",
       "18   -0.801529\n",
       "19   -1.353694\n",
       "20   -0.249365\n",
       "21    0.854965\n",
       "22   -1.905859\n",
       "23   -0.801529\n",
       "24    0.302800\n",
       "25   -1.353694\n",
       "26   -0.249365\n",
       "27    0.854965\n",
       "28   -1.905859\n",
       "29   -0.801529\n",
       "30    0.302800\n",
       "Name: Task Completion Rates, dtype: float64"
      ]
     },
     "execution_count": 60,
     "metadata": {},
     "output_type": "execute_result"
    }
   ],
   "source": [
    "scaler=StandardScaler()\n",
    "df['Task Completion Rates']=scaler.fit_transform(df[['Task Completion Rates']])\n",
    "df['Task Completion Rates']"
   ]
  },
  {
   "cell_type": "markdown",
   "id": "7c73271c-6fe1-4de3-97a9-d97db2d2111d",
   "metadata": {},
   "source": [
    "# train test split"
   ]
  },
  {
   "cell_type": "code",
   "execution_count": 68,
   "id": "86bf5ad0-4748-4a0b-8f2d-4b563afc3546",
   "metadata": {},
   "outputs": [],
   "source": [
    "import random \n",
    "import numpy as np\n",
    "from sklearn.model_selection import train_test_split"
   ]
  },
  {
   "cell_type": "code",
   "execution_count": 74,
   "id": "9760f629-35b5-46c8-b624-5431556e728d",
   "metadata": {},
   "outputs": [
    {
     "name": "stdout",
     "output_type": "stream",
     "text": [
      "[[0.4605025 ]\n",
      " [0.06858617]\n",
      " [0.78207866]\n",
      " [0.22262036]\n",
      " [0.5982645 ]\n",
      " [0.1455262 ]\n",
      " [0.0727535 ]\n",
      " [0.26088628]\n",
      " [0.32610895]\n",
      " [0.66624734]\n",
      " [0.20902693]\n",
      " [0.55115263]\n",
      " [0.65182119]\n",
      " [0.93510982]\n",
      " [0.65499821]\n",
      " [0.06675774]\n",
      " [0.58400018]\n",
      " [0.21697407]\n",
      " [0.31881086]\n",
      " [0.43088903]\n",
      " [0.16623658]\n",
      " [0.55485393]\n",
      " [0.14790595]\n",
      " [0.92124989]\n",
      " [0.17255983]\n",
      " [0.05651599]\n",
      " [0.05069672]\n",
      " [0.74387124]\n",
      " [0.53676121]\n",
      " [0.06580523]\n",
      " [0.3753391 ]\n",
      " [0.42772446]\n",
      " [0.64701788]\n",
      " [0.11355494]\n",
      " [0.18223046]\n",
      " [0.957305  ]\n",
      " [0.04656984]\n",
      " [0.61027778]\n",
      " [0.93531598]\n",
      " [0.13332039]\n",
      " [0.84196559]\n",
      " [0.32586467]\n",
      " [0.85972686]\n",
      " [0.82714133]\n",
      " [0.37237205]\n",
      " [0.77635906]\n",
      " [0.95891325]\n",
      " [0.19467568]\n",
      " [0.45222877]\n",
      " [0.7517628 ]\n",
      " [0.54536903]\n",
      " [0.38699144]\n",
      " [0.83181546]\n",
      " [0.29921224]\n",
      " [0.35253827]\n",
      " [0.58137854]\n",
      " [0.84749773]\n",
      " [0.21584464]\n",
      " [0.08374181]\n",
      " [0.55017845]\n",
      " [0.28001549]\n",
      " [0.34428969]\n",
      " [0.4727713 ]\n",
      " [0.45057086]\n",
      " [0.06945771]\n",
      " [0.41871624]\n",
      " [0.61810871]\n",
      " [0.56868899]\n",
      " [0.41791568]\n",
      " [0.52524692]\n",
      " [0.39371021]\n",
      " [0.72277938]\n",
      " [0.86788106]\n",
      " [0.85171647]\n",
      " [0.63327926]\n",
      " [0.46782269]\n",
      " [0.00478315]\n",
      " [0.85995891]\n",
      " [0.20317743]\n",
      " [0.51919522]]\n"
     ]
    }
   ],
   "source": [
    "a=np.random.rand(100,1)\n",
    "y=np.random.randint(11,50,100)\n",
    "x_train, x_test, y_train, y_test = train_test_split(a, y, test_size=0.2, random_state=42)\n",
    "print(x_train)"
   ]
  }
 ],
 "metadata": {
  "kernelspec": {
   "display_name": "Python [conda env:base] *",
   "language": "python",
   "name": "conda-base-py"
  },
  "language_info": {
   "codemirror_mode": {
    "name": "ipython",
    "version": 3
   },
   "file_extension": ".py",
   "mimetype": "text/x-python",
   "name": "python",
   "nbconvert_exporter": "python",
   "pygments_lexer": "ipython3",
   "version": "3.12.7"
  }
 },
 "nbformat": 4,
 "nbformat_minor": 5
}
