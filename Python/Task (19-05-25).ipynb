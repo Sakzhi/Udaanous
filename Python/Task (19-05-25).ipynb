{
 "cells": [
  {
   "cell_type": "code",
   "execution_count": 7,
   "id": "95411038-decf-4725-abb3-475cc9152b32",
   "metadata": {},
   "outputs": [
    {
     "data": {
      "text/html": [
       "<div>\n",
       "<style scoped>\n",
       "    .dataframe tbody tr th:only-of-type {\n",
       "        vertical-align: middle;\n",
       "    }\n",
       "\n",
       "    .dataframe tbody tr th {\n",
       "        vertical-align: top;\n",
       "    }\n",
       "\n",
       "    .dataframe thead th {\n",
       "        text-align: right;\n",
       "    }\n",
       "</style>\n",
       "<table border=\"1\" class=\"dataframe\">\n",
       "  <thead>\n",
       "    <tr style=\"text-align: right;\">\n",
       "      <th></th>\n",
       "      <th>EmployeeID</th>\n",
       "      <th>gender</th>\n",
       "      <th>department</th>\n",
       "      <th>Days Present</th>\n",
       "      <th>Accuracy of Work</th>\n",
       "      <th>Meeting Project Deadlines</th>\n",
       "      <th>Task Completion Rates</th>\n",
       "      <th>Interpersonal Skills Rating</th>\n",
       "      <th>Decision-Making Skills Rating</th>\n",
       "      <th>Sales Revenue Generated</th>\n",
       "      <th>churned</th>\n",
       "    </tr>\n",
       "  </thead>\n",
       "  <tbody>\n",
       "    <tr>\n",
       "      <th>0</th>\n",
       "      <td>1</td>\n",
       "      <td>Male</td>\n",
       "      <td>Sales</td>\n",
       "      <td>20</td>\n",
       "      <td>High</td>\n",
       "      <td>Yes</td>\n",
       "      <td>85</td>\n",
       "      <td>8</td>\n",
       "      <td>7</td>\n",
       "      <td>51638</td>\n",
       "      <td>No</td>\n",
       "    </tr>\n",
       "    <tr>\n",
       "      <th>1</th>\n",
       "      <td>2</td>\n",
       "      <td>Female</td>\n",
       "      <td>Marketing</td>\n",
       "      <td>22</td>\n",
       "      <td>Medium</td>\n",
       "      <td>Yes</td>\n",
       "      <td>90</td>\n",
       "      <td>7</td>\n",
       "      <td>6</td>\n",
       "      <td>97797</td>\n",
       "      <td>Yes</td>\n",
       "    </tr>\n",
       "    <tr>\n",
       "      <th>2</th>\n",
       "      <td>3</td>\n",
       "      <td>Male</td>\n",
       "      <td>Human Resources</td>\n",
       "      <td>25</td>\n",
       "      <td>High</td>\n",
       "      <td>No</td>\n",
       "      <td>80</td>\n",
       "      <td>9</td>\n",
       "      <td>8</td>\n",
       "      <td>95341</td>\n",
       "      <td>No</td>\n",
       "    </tr>\n",
       "    <tr>\n",
       "      <th>3</th>\n",
       "      <td>4</td>\n",
       "      <td>Male</td>\n",
       "      <td>Engineering</td>\n",
       "      <td>19</td>\n",
       "      <td>Low</td>\n",
       "      <td>Yes</td>\n",
       "      <td>75</td>\n",
       "      <td>6</td>\n",
       "      <td>5</td>\n",
       "      <td>91806</td>\n",
       "      <td>No</td>\n",
       "    </tr>\n",
       "    <tr>\n",
       "      <th>4</th>\n",
       "      <td>5</td>\n",
       "      <td>Female</td>\n",
       "      <td>Finance</td>\n",
       "      <td>23</td>\n",
       "      <td>Medium</td>\n",
       "      <td>Yes</td>\n",
       "      <td>85</td>\n",
       "      <td>7</td>\n",
       "      <td>7</td>\n",
       "      <td>64247</td>\n",
       "      <td>Yes</td>\n",
       "    </tr>\n",
       "  </tbody>\n",
       "</table>\n",
       "</div>"
      ],
      "text/plain": [
       "   EmployeeID  gender       department  Days Present Accuracy of Work  \\\n",
       "0           1    Male            Sales            20             High   \n",
       "1           2  Female        Marketing            22           Medium   \n",
       "2           3    Male  Human Resources            25             High   \n",
       "3           4    Male      Engineering            19              Low   \n",
       "4           5  Female          Finance            23           Medium   \n",
       "\n",
       "  Meeting Project Deadlines  Task Completion Rates  \\\n",
       "0                       Yes                     85   \n",
       "1                       Yes                     90   \n",
       "2                        No                     80   \n",
       "3                       Yes                     75   \n",
       "4                       Yes                     85   \n",
       "\n",
       "   Interpersonal Skills Rating  Decision-Making Skills Rating  \\\n",
       "0                            8                              7   \n",
       "1                            7                              6   \n",
       "2                            9                              8   \n",
       "3                            6                              5   \n",
       "4                            7                              7   \n",
       "\n",
       "   Sales Revenue Generated churned  \n",
       "0                    51638      No  \n",
       "1                    97797     Yes  \n",
       "2                    95341      No  \n",
       "3                    91806      No  \n",
       "4                    64247     Yes  "
      ]
     },
     "execution_count": 7,
     "metadata": {},
     "output_type": "execute_result"
    }
   ],
   "source": [
    "import pandas as pd\n",
    "df=pd.read_excel(\"practice_data.xlsx\")\n",
    "df.head()"
   ]
  },
  {
   "cell_type": "markdown",
   "id": "c1c49cbe-c13c-4661-92d8-e7032982f4f6",
   "metadata": {},
   "source": [
    "# Decision tree regressor"
   ]
  },
  {
   "cell_type": "code",
   "execution_count": 21,
   "id": "d7c2b4ba-fa62-439e-b8e9-00d89c8ca6ac",
   "metadata": {},
   "outputs": [
    {
     "name": "stdout",
     "output_type": "stream",
     "text": [
      "Mean Squared Error: 0.526626984126984\n"
     ]
    }
   ],
   "source": [
    "from sklearn.tree import DecisionTreeRegressor\n",
    "from sklearn.metrics import mean_squared_error\n",
    "X = df[['Task Completion Rates']]\n",
    "y = df['Interpersonal Skills Rating']\n",
    "model = DecisionTreeRegressor()\n",
    "model.fit(X_train, y_train)\n",
    "y_pred = model.predict(X_test)\n",
    "mse = mean_squared_error(y_test,y_pred)\n",
    "print(\"Mean Squared Error:\", mse)"
   ]
  },
  {
   "cell_type": "markdown",
   "id": "17572971-0506-4568-9cbc-9265e27433af",
   "metadata": {},
   "source": [
    "# Randon forest regressor "
   ]
  },
  {
   "cell_type": "code",
   "execution_count": 25,
   "id": "021b9c50-1646-4a81-8f82-913e26586dd1",
   "metadata": {},
   "outputs": [],
   "source": [
    "from sklearn.ensemble import RandomForestRegressor\n",
    "from sklearn.metrics import mean_squared_error"
   ]
  },
  {
   "cell_type": "code",
   "execution_count": 35,
   "id": "d0dbfcec-af21-48b3-b4b2-d62a1bd70868",
   "metadata": {},
   "outputs": [
    {
     "name": "stdout",
     "output_type": "stream",
     "text": [
      "Mean squared error: 0.47440471191915856\n"
     ]
    }
   ],
   "source": [
    "X = df[['Task Completion Rates']]\n",
    "y = df['Decision-Making Skills Rating']\n",
    "model = RandomForestRegressor()\n",
    "model.fit(X_train, y_train)\n",
    "y_pred = model.predict(X_test)\n",
    "mape = mean_squared_error(y_test, y_pred)\n",
    "print(\"Mean squared error:\", mape)"
   ]
  },
  {
   "cell_type": "markdown",
   "id": "6942035a-9f79-4758-9304-01d6f97b6fa2",
   "metadata": {},
   "source": [
    "# Random forest regressor"
   ]
  },
  {
   "cell_type": "code",
   "execution_count": 39,
   "id": "7dcc694b-1ed5-455a-ada1-07d8034ddba6",
   "metadata": {},
   "outputs": [
    {
     "name": "stdout",
     "output_type": "stream",
     "text": [
      "Mean squared error: 0.730692530355301\n"
     ]
    }
   ],
   "source": [
    "X_train=df[['Task Completion Rates']]\n",
    "X_test=df[['Task Completion Rates']]\n",
    "y_train = df['Decision-Making Skills Rating']\n",
    "y_test = df['Decision-Making Skills Rating']\n",
    "model = RandomForestRegressor()\n",
    "model.fit(X_train, y_train)\n",
    "y_pred = model.predict(X_test)\n",
    "mape = mean_squared_error(y_test, y_pred)\n",
    "print(\"Mean squared error:\", mape)"
   ]
  },
  {
   "cell_type": "code",
   "execution_count": null,
   "id": "23ed55a5-2073-4d26-bad3-fc1bab9a025d",
   "metadata": {},
   "outputs": [],
   "source": []
  }
 ],
 "metadata": {
  "kernelspec": {
   "display_name": "Python [conda env:base] *",
   "language": "python",
   "name": "conda-base-py"
  },
  "language_info": {
   "codemirror_mode": {
    "name": "ipython",
    "version": 3
   },
   "file_extension": ".py",
   "mimetype": "text/x-python",
   "name": "python",
   "nbconvert_exporter": "python",
   "pygments_lexer": "ipython3",
   "version": "3.12.7"
  }
 },
 "nbformat": 4,
 "nbformat_minor": 5
}
